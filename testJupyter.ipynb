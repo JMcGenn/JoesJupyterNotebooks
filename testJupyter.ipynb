{
 "cells": [
  {
   "cell_type": "markdown",
   "source": [
    "# Test Jupyter\r\n"
   ],
   "metadata": {}
  },
  {
   "cell_type": "code",
   "execution_count": null,
   "source": [
    "from arcgis.gis import GIS\r\n",
    "gis = GIS(\"home\")"
   ],
   "outputs": [],
   "metadata": {}
  }
 ],
 "metadata": {
  "orig_nbformat": 4,
  "language_info": {
   "name": "python"
  }
 },
 "nbformat": 4,
 "nbformat_minor": 2
}